{
 "cells": [
  {
   "cell_type": "code",
   "execution_count": 62,
   "metadata": {},
   "outputs": [],
   "source": [
    "# Establecemos los directorios del proyecto\n",
    "import sys\n",
    "from pathlib import Path\n",
    "sys.path.append(str(Path('.').resolve().parent))"
   ]
  },
  {
   "cell_type": "code",
   "execution_count": 63,
   "metadata": {},
   "outputs": [],
   "source": [
    "from langchain import PromptTemplate\n",
    "# from langchain_community.chat_models import ChatOpenAI\n",
    "from langchain_openai import ChatOpenAI\n",
    "#from langchain.chat_models import ChatOpenAI\n",
    "from langchain.schema import HumanMessage\n",
    "import base64\n",
    "import os\n",
    "from api.configuration.keys import POKER_GPT_KEY\n",
    "from api.configuration.config import IMG_DIR\n"
   ]
  },
  {
   "cell_type": "code",
   "execution_count": 64,
   "metadata": {},
   "outputs": [],
   "source": [
    "\n",
    "# Almacenamos modelo\n",
    "gptmodel = ChatOpenAI(model_name = \"gpt-4o\", openai_api_key=POKER_GPT_KEY)\n",
    "# Mi username en la plataforma de poker\n",
    "#user_poker_name=\"pokeados\""
   ]
  },
  {
   "cell_type": "code",
   "execution_count": 65,
   "metadata": {},
   "outputs": [
    {
     "name": "stdout",
     "output_type": "stream",
     "text": [
      "¡Hola! ¿Cómo estás? ¿En qué puedo ayudarte hoy?\n",
      "¡Hola! ¿En qué puedo ayudarte hoy?\n"
     ]
    }
   ],
   "source": [
    "print(gptmodel.invoke('Hola').content)\n",
    "print(gptmodel([HumanMessage(content=\"Hola\")]).content)"
   ]
  },
  {
   "cell_type": "markdown",
   "metadata": {},
   "source": [
    "CONSTRUIMOS EL TEMPLATE"
   ]
  },
  {
   "cell_type": "code",
   "execution_count": 66,
   "metadata": {},
   "outputs": [],
   "source": [
    "# Función para codificar la imagen que le vamos a pasar a langchain\n",
    "\n",
    "# Function to encode the image\n",
    "def encode_image(image_path):\n",
    "  with open(image_path, \"rb\") as image_file:\n",
    "    return base64.b64encode(image_file.read()).decode('utf-8')\n"
   ]
  },
  {
   "cell_type": "code",
   "execution_count": null,
   "metadata": {},
   "outputs": [],
   "source": []
  },
  {
   "cell_type": "code",
   "execution_count": 67,
   "metadata": {},
   "outputs": [],
   "source": [
    "context_temp = \"\"\"You are a profesional poker player called {user_poker_name}.\n",
    "Current situation: We are in {stage}. Player {player} make a {play} from {seat} position.\n",
    "Players statisticts: Player {player} have played {n_plays} hands with {n_raises} rises and {n_wins} wins.\n",
    "See the table: {imagen}\n",
    "Tell me: What move would you do and why.\"\"\"\n",
    "\n",
    "imagen = encode_image(f\"{IMG_DIR}/Mano_2024-05-12:23-14-41.png\")\n",
    "\n",
    "# construimos el template\n",
    "template = PromptTemplate(input_variables=['user_poker_name','stage','player','play','seat','player','n_plays','n_raises','n_wins','imagen'], template = context_temp)\n",
    "\n",
    "# Vemos cómo sale el prompt\n",
    "prompt_test = template.format(user_poker_name='pokeados',player='HER_MILK_MAN',stage='preflop',seat='UTG',play = 'call',n_plays = 33,n_raises = 25,n_wins = 2,imagen=imagen)\n",
    "#print(prompt_test)"
   ]
  },
  {
   "cell_type": "code",
   "execution_count": 68,
   "metadata": {},
   "outputs": [
    {
     "name": "stdout",
     "output_type": "stream",
     "text": [
      "Given the information provided, there are several factors to consider before making a decision:\n",
      "\n",
      "1. **Player Statistics:** HER_MILK_MAN has played 33 hands with 25 raises and only 2 wins. This suggests that HER_MILK_MAN is an extremely aggressive player (raising around 75% of the hands), but with a low success rate. This could indicate that they are often playing weak hands or bluffing.\n",
      "\n",
      "2. **Position:** HER_MILK_MAN is calling from the UTG (Under The Gun) position, which is typically a strong position, as players are usually more cautious and play stronger hands from here. However, given their aggressive and loose statistics, this call may not necessarily indicate strength.\n",
      "\n",
      "3. **Your Position and Hand Strength:** Your decision should also be influenced by your position (are you in early, middle, or late position?) and the strength of your hand. Without specific information on your hand, I can provide a general strategy.\n",
      "\n",
      "### Potential Moves:\n",
      "\n",
      "- **Raise:** If you have a strong hand (e.g., high pocket pairs like AA, KK, or AK suited), a raise is recommended to isolate the aggressive player and take control of the pot. Given HER_MILK_MAN's tendency to play loose, they might call with weaker hands, which can be advantageous for you.\n",
      "\n",
      "- **Call:** If you have a medium-strength hand or a speculative hand (e.g., suited connectors, lower pocket pairs), calling can be a viable option. You can see the flop relatively cheaply and decide your next move based on the community cards and HER_MILK_MAN's actions.\n",
      "\n",
      "- **Fold:** If you have a weak hand or are in an early position with a marginal hand, folding is a safe option. There is no need to get involved with a potentially aggressive player when you have a hand with low equity.\n",
      "\n",
      "### Example Scenarios:\n",
      "\n",
      "1. **Strong Hand (e.g., AA, KK, AK suited):**\n",
      "   - **Move:** Raise\n",
      "   - **Reason:** You want to build the pot and potentially isolate HER_MILK_MAN. Given their loose play, they might call your raise with weaker hands, giving you a good chance to win a larger pot.\n",
      "\n",
      "2. **Medium Hand (e.g., 77, 89 suited):**\n",
      "   - **Move:** Call\n",
      "   - **Reason:** You have a hand with potential, and by calling, you can see the flop without committing too many chips. If the flop is favorable, you can proceed aggressively.\n",
      "\n",
      "3. **Weak Hand (e.g., 72 offsuit):**\n",
      "   - **Move:** Fold\n",
      "   - **Reason:** Even though HER_MILK_MAN is playing loose, entering the pot with a weak hand from an early position is not advisable. It's better to wait for a stronger hand or a better position.\n",
      "\n",
      "In summary, the best move largely depends on your hand strength and position. Given HER_MILK_MAN's loose and aggressive tendencies, raising with strong hands and calling with speculative hands could be profitable. Always consider your table position and the dynamic of the game when making your decision.\n"
     ]
    }
   ],
   "source": [
    "# Pasémosle el prompt al modelo\n",
    "respuesta = gptmodel.invoke(prompt_test)\n",
    "print(respuesta.content)"
   ]
  },
  {
   "cell_type": "code",
   "execution_count": null,
   "metadata": {},
   "outputs": [],
   "source": []
  }
 ],
 "metadata": {
  "kernelspec": {
   "display_name": "poker",
   "language": "python",
   "name": "python3"
  },
  "language_info": {
   "codemirror_mode": {
    "name": "ipython",
    "version": 3
   },
   "file_extension": ".py",
   "mimetype": "text/x-python",
   "name": "python",
   "nbconvert_exporter": "python",
   "pygments_lexer": "ipython3",
   "version": "3.10.14"
  }
 },
 "nbformat": 4,
 "nbformat_minor": 2
}

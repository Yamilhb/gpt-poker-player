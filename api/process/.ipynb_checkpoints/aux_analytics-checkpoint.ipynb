{
 "cells": [
  {
   "cell_type": "code",
   "execution_count": 1,
   "metadata": {},
   "outputs": [],
   "source": [
    "import sys\n",
    "from pathlib import Path\n",
    "# Set the module paths\n",
    "sys.path.append(str(Path('.').resolve().parent.parent))\n"
   ]
  },
  {
   "cell_type": "code",
   "execution_count": 2,
   "metadata": {},
   "outputs": [
    {
     "name": "stdout",
     "output_type": "stream",
     "text": [
      "/home/y41000/repos/gpt-poker-player/api/images\n"
     ]
    }
   ],
   "source": [
    "import polars as pl\n",
    "pl.Config.set_tbl_rows(100)\n",
    "from api.configuration.config import TAB_DIR"
   ]
  },
  {
   "cell_type": "code",
   "execution_count": 3,
   "metadata": {},
   "outputs": [],
   "source": [
    "data = pl.read_parquet(f'{TAB_DIR}/historia.parquet')"
   ]
  },
  {
   "cell_type": "code",
   "execution_count": 4,
   "metadata": {},
   "outputs": [
    {
     "data": {
      "text/plain": [
       "(17146511, 17)"
      ]
     },
     "execution_count": 4,
     "metadata": {},
     "output_type": "execute_result"
    }
   ],
   "source": [
    "data.shape"
   ]
  },
  {
   "cell_type": "code",
   "execution_count": null,
   "metadata": {},
   "outputs": [],
   "source": []
  },
  {
   "cell_type": "code",
   "execution_count": 7,
   "metadata": {},
   "outputs": [
    {
     "data": {
      "text/html": [
       "<div><style>\n",
       ".dataframe > thead > tr,\n",
       ".dataframe > tbody > tr {\n",
       "  text-align: right;\n",
       "  white-space: pre-wrap;\n",
       "}\n",
       "</style>\n",
       "<small>shape: (5, 17)</small><table border=\"1\" class=\"dataframe\"><thead><tr><th>hand_id</th><th>stakes_sb</th><th>stakes_bb</th><th>date_time</th><th>table</th><th>button_seat</th><th>seat</th><th>player</th><th>chips_inicial</th><th>chips</th><th>stage</th><th>pot</th><th>sequential_number</th><th>hand</th><th>action</th><th>winner</th><th>chips_won</th></tr><tr><td>str</td><td>str</td><td>str</td><td>str</td><td>str</td><td>str</td><td>str</td><td>str</td><td>f64</td><td>f64</td><td>str</td><td>f64</td><td>i64</td><td>str</td><td>str</td><td>str</td><td>f64</td></tr></thead><tbody><tr><td>&quot;01346246962&quot;</td><td>&quot;0.01&quot;</td><td>&quot;0.02&quot;</td><td>&quot;2023/08/02 18:26:18&quot;</td><td>&quot;GG_NLHYellow53&quot;</td><td>&quot;5&quot;</td><td>&quot;SB&quot;</td><td>&quot;Levi_25&quot;</td><td>0.52</td><td>0.51</td><td>&quot;preflop&quot;</td><td>0.01</td><td>1</td><td>null</td><td>&quot;posts small blind $0.01&quot;</td><td>null</td><td>null</td></tr><tr><td>&quot;01346246962&quot;</td><td>&quot;0.01&quot;</td><td>&quot;0.02&quot;</td><td>&quot;2023/08/02 18:26:18&quot;</td><td>&quot;GG_NLHYellow53&quot;</td><td>&quot;5&quot;</td><td>&quot;BB&quot;</td><td>&quot;M1roCle3&quot;</td><td>0.57</td><td>0.55</td><td>&quot;preflop&quot;</td><td>0.03</td><td>2</td><td>null</td><td>&quot;posts big blind $0.02&quot;</td><td>null</td><td>null</td></tr><tr><td>&quot;01345244331&quot;</td><td>&quot;0.01&quot;</td><td>&quot;0.02&quot;</td><td>&quot;2023/08/02 04:37:31&quot;</td><td>&quot;GG_NLHYellow53&quot;</td><td>&quot;6&quot;</td><td>&quot;SB&quot;</td><td>&quot;breeedman&quot;</td><td>3.67</td><td>3.66</td><td>&quot;preflop&quot;</td><td>0.01</td><td>1</td><td>null</td><td>&quot;posts small blind $0.01&quot;</td><td>null</td><td>null</td></tr><tr><td>&quot;01345244331&quot;</td><td>&quot;0.01&quot;</td><td>&quot;0.02&quot;</td><td>&quot;2023/08/02 04:37:31&quot;</td><td>&quot;GG_NLHYellow53&quot;</td><td>&quot;6&quot;</td><td>&quot;MP&quot;</td><td>&quot;lielieboy&quot;</td><td>2.14</td><td>2.12</td><td>&quot;preflop&quot;</td><td>0.03</td><td>2</td><td>null</td><td>&quot;posts big blind $0.02&quot;</td><td>null</td><td>null</td></tr><tr><td>&quot;01345244331&quot;</td><td>&quot;0.01&quot;</td><td>&quot;0.02&quot;</td><td>&quot;2023/08/02 04:37:31&quot;</td><td>&quot;GG_NLHYellow53&quot;</td><td>&quot;6&quot;</td><td>&quot;HJ&quot;</td><td>&quot;ttyu88&quot;</td><td>0.5</td><td>0.48</td><td>&quot;preflop&quot;</td><td>0.05</td><td>3</td><td>null</td><td>&quot;posts big blind $0.02&quot;</td><td>null</td><td>null</td></tr></tbody></table></div>"
      ],
      "text/plain": [
       "shape: (5, 17)\n",
       "┌─────────────┬───────────┬───────────┬──────────────┬───┬──────┬─────────────┬────────┬───────────┐\n",
       "│ hand_id     ┆ stakes_sb ┆ stakes_bb ┆ date_time    ┆ … ┆ hand ┆ action      ┆ winner ┆ chips_won │\n",
       "│ ---         ┆ ---       ┆ ---       ┆ ---          ┆   ┆ ---  ┆ ---         ┆ ---    ┆ ---       │\n",
       "│ str         ┆ str       ┆ str       ┆ str          ┆   ┆ str  ┆ str         ┆ str    ┆ f64       │\n",
       "╞═════════════╪═══════════╪═══════════╪══════════════╪═══╪══════╪═════════════╪════════╪═══════════╡\n",
       "│ 01346246962 ┆ 0.01      ┆ 0.02      ┆ 2023/08/02   ┆ … ┆ null ┆ posts small ┆ null   ┆ null      │\n",
       "│             ┆           ┆           ┆ 18:26:18     ┆   ┆      ┆ blind $0.01 ┆        ┆           │\n",
       "│ 01346246962 ┆ 0.01      ┆ 0.02      ┆ 2023/08/02   ┆ … ┆ null ┆ posts big   ┆ null   ┆ null      │\n",
       "│             ┆           ┆           ┆ 18:26:18     ┆   ┆      ┆ blind $0.02 ┆        ┆           │\n",
       "│ 01345244331 ┆ 0.01      ┆ 0.02      ┆ 2023/08/02   ┆ … ┆ null ┆ posts small ┆ null   ┆ null      │\n",
       "│             ┆           ┆           ┆ 04:37:31     ┆   ┆      ┆ blind $0.01 ┆        ┆           │\n",
       "│ 01345244331 ┆ 0.01      ┆ 0.02      ┆ 2023/08/02   ┆ … ┆ null ┆ posts big   ┆ null   ┆ null      │\n",
       "│             ┆           ┆           ┆ 04:37:31     ┆   ┆      ┆ blind $0.02 ┆        ┆           │\n",
       "│ 01345244331 ┆ 0.01      ┆ 0.02      ┆ 2023/08/02   ┆ … ┆ null ┆ posts big   ┆ null   ┆ null      │\n",
       "│             ┆           ┆           ┆ 04:37:31     ┆   ┆      ┆ blind $0.02 ┆        ┆           │\n",
       "└─────────────┴───────────┴───────────┴──────────────┴───┴──────┴─────────────┴────────┴───────────┘"
      ]
     },
     "execution_count": 7,
     "metadata": {},
     "output_type": "execute_result"
    }
   ],
   "source": []
  },
  {
   "cell_type": "code",
   "execution_count": 45,
   "metadata": {},
   "outputs": [],
   "source": [
    "#data.filter(pl.col('hand_id')==\"01343841593\")"
   ]
  },
  {
   "cell_type": "code",
   "execution_count": 47,
   "metadata": {},
   "outputs": [],
   "source": []
  },
  {
   "cell_type": "code",
   "execution_count": null,
   "metadata": {},
   "outputs": [],
   "source": []
  },
  {
   "cell_type": "code",
   "execution_count": null,
   "metadata": {},
   "outputs": [],
   "source": []
  },
  {
   "cell_type": "code",
   "execution_count": null,
   "metadata": {},
   "outputs": [],
   "source": []
  },
  {
   "cell_type": "code",
   "execution_count": 7,
   "metadata": {},
   "outputs": [
    {
     "data": {
      "text/html": [
       "<div><style>\n",
       ".dataframe > thead > tr,\n",
       ".dataframe > tbody > tr {\n",
       "  text-align: right;\n",
       "  white-space: pre-wrap;\n",
       "}\n",
       "</style>\n",
       "<small>shape: (5, 1)</small><table border=\"1\" class=\"dataframe\"><thead><tr><th>stage</th></tr><tr><td>struct[2]</td></tr></thead><tbody><tr><td>{&quot;river&quot;,1350035}</td></tr><tr><td>{&quot;turn&quot;,1386582}</td></tr><tr><td>{&quot;preflop&quot;,10782502}</td></tr><tr><td>{&quot;flop&quot;,2182270}</td></tr><tr><td>{&quot;showdown&quot;,1445122}</td></tr></tbody></table></div>"
      ],
      "text/plain": [
       "shape: (5, 1)\n",
       "┌──────────────────────┐\n",
       "│ stage                │\n",
       "│ ---                  │\n",
       "│ struct[2]            │\n",
       "╞══════════════════════╡\n",
       "│ {\"river\",1350035}    │\n",
       "│ {\"turn\",1386582}     │\n",
       "│ {\"preflop\",10782502} │\n",
       "│ {\"flop\",2182270}     │\n",
       "│ {\"showdown\",1445122} │\n",
       "└──────────────────────┘"
      ]
     },
     "execution_count": 7,
     "metadata": {},
     "output_type": "execute_result"
    }
   ],
   "source": [
    "\n",
    "# Esto no cuenta los nulos\n",
    "data.select(\n",
    "    pl.col(\"stage\").value_counts()\n",
    ")"
   ]
  },
  {
   "cell_type": "code",
   "execution_count": 13,
   "metadata": {},
   "outputs": [],
   "source": [
    "preflop = data.filter(pl.col(\"stage\") == \"preflop\")\n",
    "flop = data.filter(pl.col(\"stage\") == \"flop\")\n",
    "turn = data.filter(pl.col(\"stage\") == \"turn\")\n",
    "river = data.filter(pl.col(\"stage\") == \"river\")\n",
    "winners = data.filter((pl.col(\"stage\") == \"showdown\")).drop_nulls(\"winner\")\n"
   ]
  },
  {
   "cell_type": "code",
   "execution_count": 9,
   "metadata": {},
   "outputs": [],
   "source": [
    "winners = winners.drop(['stakes_sb', 'stakes_bb', 'date_time','button_seat','chips','stage','hand','action'])"
   ]
  },
  {
   "cell_type": "code",
   "execution_count": null,
   "metadata": {},
   "outputs": [],
   "source": [
    "\n",
    "# Nº de manos ganadas desde cada posición\n",
    "won_from_seat = winners.group_by(['player','seat']).agg(\n",
    "    pl.col('hand_id').n_unique().alias('won_from_seat')\n",
    ")\n",
    "# Nº de manos donde paga\n",
    "condition = [('posts'in str(x))\n",
    "             or('calls'in str(x))\n",
    "             or('bets'in str(x))\n",
    "             or('raises'in str(x))\n",
    "             or('straddle' in str(x)) for x in data['action']]\n",
    "hands_paid = data.filter(pl.Series(condition))\n",
    "\n",
    "# Nº de manos donde paga desde cada posición\n",
    "hands_paid_from_seat = hands_paid.group_by(['player','seat']).agg(\n",
    "    pl.col('hand_id').n_unique().alias('hands_paid_from_seat')\n",
    ")\n",
    "hands_paid =hands_paid.group_by('player').agg(\n",
    "    pl.col('hand_id').n_unique().alias('hands_paid')\n",
    ")\n",
    "\n"
   ]
  },
  {
   "cell_type": "code",
   "execution_count": 12,
   "metadata": {},
   "outputs": [
    {
     "ename": "NameError",
     "evalue": "name 'winners' is not defined",
     "output_type": "error",
     "traceback": [
      "\u001b[0;31m---------------------------------------------------------------------------\u001b[0m",
      "\u001b[0;31mNameError\u001b[0m                                 Traceback (most recent call last)",
      "Cell \u001b[0;32mIn[12], line 1\u001b[0m\n\u001b[0;32m----> 1\u001b[0m won_from_seat \u001b[38;5;241m=\u001b[39m \u001b[43mwinners\u001b[49m\u001b[38;5;241m.\u001b[39mgroup_by([\u001b[38;5;124m'\u001b[39m\u001b[38;5;124mplayer\u001b[39m\u001b[38;5;124m'\u001b[39m,\u001b[38;5;124m'\u001b[39m\u001b[38;5;124mseat\u001b[39m\u001b[38;5;124m'\u001b[39m])\u001b[38;5;241m.\u001b[39magg(\n\u001b[1;32m      2\u001b[0m     pl\u001b[38;5;241m.\u001b[39mcol(\u001b[38;5;124m'\u001b[39m\u001b[38;5;124mhand_id\u001b[39m\u001b[38;5;124m'\u001b[39m)\u001b[38;5;241m.\u001b[39mn_unique()\u001b[38;5;241m.\u001b[39malias(\u001b[38;5;124m'\u001b[39m\u001b[38;5;124mwon_from_seat\u001b[39m\u001b[38;5;124m'\u001b[39m)\n\u001b[1;32m      3\u001b[0m )\n",
      "\u001b[0;31mNameError\u001b[0m: name 'winners' is not defined"
     ]
    }
   ],
   "source": [
    "\n",
    "\n",
    "\n",
    "won_from_seat = winners.group_by(['player','seat']).agg(\n",
    "    pl.col('hand_id').n_unique().alias('won_from_seat')\n",
    ")\n",
    "    "
   ]
  },
  {
   "cell_type": "code",
   "execution_count": 12,
   "metadata": {},
   "outputs": [
    {
     "name": "stderr",
     "output_type": "stream",
     "text": [
      "/tmp/ipykernel_166290/2888240265.py:1: DeprecationWarning: `groupby` is deprecated. It has been renamed to `group_by`.\n",
      "  preflop.groupby('player','seat').agg(\n"
     ]
    },
    {
     "data": {
      "text/html": [
       "<div><style>\n",
       ".dataframe > thead > tr,\n",
       ".dataframe > tbody > tr {\n",
       "  text-align: right;\n",
       "  white-space: pre-wrap;\n",
       "}\n",
       "</style>\n",
       "<small>shape: (183_413, 3)</small><table border=\"1\" class=\"dataframe\"><thead><tr><th>player</th><th>seat</th><th>n_plays_from_seat</th></tr><tr><td>str</td><td>str</td><td>u32</td></tr></thead><tbody><tr><td>&quot;Thiago bizu&quot;</td><td>&quot;UTG&quot;</td><td>2</td></tr><tr><td>&quot;Dirtyklaus&quot;</td><td>&quot;SB&quot;</td><td>22</td></tr><tr><td>&quot;Cherab&quot;</td><td>&quot;MP&quot;</td><td>6</td></tr><tr><td>&quot;opiopo&quot;</td><td>&quot;SB&quot;</td><td>18</td></tr><tr><td>&quot;kify&quot;</td><td>&quot;SB&quot;</td><td>12</td></tr><tr><td>&quot;w88Pelinh199x&quot;</td><td>&quot;SB&quot;</td><td>57</td></tr><tr><td>&quot;E-GOh&quot;</td><td>&quot;MP&quot;</td><td>30</td></tr><tr><td>&quot;Focustime17&quot;</td><td>&quot;BB&quot;</td><td>97</td></tr><tr><td>&quot;luan-LUAN&quot;</td><td>&quot;SB&quot;</td><td>363</td></tr><tr><td>&quot;muller@&quot;</td><td>&quot;UTG&quot;</td><td>19</td></tr><tr><td>&quot;PUELx&quot;</td><td>&quot;BB&quot;</td><td>2</td></tr><tr><td>&quot;Stiwek&quot;</td><td>&quot;SB&quot;</td><td>2</td></tr><tr><td>&quot;akakakakakak&quot;</td><td>&quot;UTG&quot;</td><td>32</td></tr><tr><td>&quot;Apemossi&quot;</td><td>&quot;UTG&quot;</td><td>8</td></tr><tr><td>&quot;hoerbmuc85&quot;</td><td>&quot;UTG&quot;</td><td>44</td></tr><tr><td>&quot;Rice99&quot;</td><td>&quot;SB&quot;</td><td>76</td></tr><tr><td>&quot;yogev 8644&quot;</td><td>&quot;SB&quot;</td><td>31</td></tr><tr><td>&quot;Devil_Ribbits&quot;</td><td>&quot;SB&quot;</td><td>67</td></tr><tr><td>&quot;HoRRaT&quot;</td><td>&quot;BB&quot;</td><td>2</td></tr><tr><td>&quot;hamedshiv3r&quot;</td><td>&quot;MP&quot;</td><td>1</td></tr><tr><td>&quot;didadidd&quot;</td><td>&quot;HJ&quot;</td><td>20</td></tr><tr><td>&quot;Jai-Kana&quot;</td><td>&quot;SB&quot;</td><td>18</td></tr><tr><td>&quot;PTWR&quot;</td><td>&quot;UTG&quot;</td><td>3</td></tr><tr><td>&quot;seougho&quot;</td><td>&quot;BTN&quot;</td><td>1</td></tr><tr><td>&quot;pilsner_jeong&quot;</td><td>&quot;HJ&quot;</td><td>2</td></tr><tr><td>&quot;edison he&quot;</td><td>&quot;BB&quot;</td><td>3</td></tr><tr><td>&quot;snoisiv222&quot;</td><td>&quot;MP&quot;</td><td>24</td></tr><tr><td>&quot;GKkkkkk&quot;</td><td>&quot;UTG&quot;</td><td>1</td></tr><tr><td>&quot;DaeGoon&quot;</td><td>&quot;BB&quot;</td><td>26</td></tr><tr><td>&quot;bernardo258&quot;</td><td>&quot;BB&quot;</td><td>17</td></tr><tr><td>&quot;VuHoaiLinh&quot;</td><td>&quot;MP&quot;</td><td>1</td></tr><tr><td>&quot;tungjklm&quot;</td><td>&quot;HJ&quot;</td><td>6</td></tr><tr><td>&quot;Trummi&quot;</td><td>&quot;UTG&quot;</td><td>97</td></tr><tr><td>&quot;takesssssy&quot;</td><td>&quot;SB&quot;</td><td>83</td></tr><tr><td>&quot;K_N_W&quot;</td><td>&quot;UTG&quot;</td><td>70</td></tr><tr><td>&quot;iamroni&quot;</td><td>&quot;BTN&quot;</td><td>5</td></tr><tr><td>&quot;Vaccine_&quot;</td><td>&quot;UTG&quot;</td><td>8</td></tr><tr><td>&quot;rkadeon&quot;</td><td>&quot;BTN&quot;</td><td>82</td></tr><tr><td>&quot;Samuel321&quot;</td><td>&quot;BTN&quot;</td><td>3</td></tr><tr><td>&quot;kamingam&quot;</td><td>&quot;SB&quot;</td><td>12</td></tr><tr><td>&quot;Puppy!&quot;</td><td>&quot;MP&quot;</td><td>16</td></tr><tr><td>&quot;Q3A3&quot;</td><td>&quot;UTG&quot;</td><td>174</td></tr><tr><td>&quot;gonzlop&quot;</td><td>&quot;UTG&quot;</td><td>8</td></tr><tr><td>&quot;520327&quot;</td><td>&quot;MP&quot;</td><td>3</td></tr><tr><td>&quot;Wisping&quot;</td><td>&quot;HJ&quot;</td><td>16</td></tr><tr><td>&quot;Kar5on&quot;</td><td>&quot;MP&quot;</td><td>2</td></tr><tr><td>&quot;Rdtffhhb&quot;</td><td>&quot;SB&quot;</td><td>10</td></tr><tr><td>&quot;LIXIS1414&quot;</td><td>&quot;BB&quot;</td><td>4</td></tr><tr><td>&quot;Wolliemon&quot;</td><td>&quot;UTG&quot;</td><td>109</td></tr><tr><td>&quot;ppph&quot;</td><td>&quot;BB&quot;</td><td>4</td></tr><tr><td>&hellip;</td><td>&hellip;</td><td>&hellip;</td></tr><tr><td>&quot;Welldark&quot;</td><td>&quot;UTG&quot;</td><td>49</td></tr><tr><td>&quot;Seung LEE&quot;</td><td>&quot;MP&quot;</td><td>4</td></tr><tr><td>&quot;Ksstan&quot;</td><td>&quot;BTN&quot;</td><td>30</td></tr><tr><td>&quot;worldtraveller&quot;</td><td>&quot;MP&quot;</td><td>2</td></tr><tr><td>&quot;sandy1i&quot;</td><td>&quot;SB&quot;</td><td>128</td></tr><tr><td>&quot;sweet yu&quot;</td><td>&quot;SB&quot;</td><td>97</td></tr><tr><td>&quot;JowBLOB&quot;</td><td>&quot;HJ&quot;</td><td>133</td></tr><tr><td>&quot;URBehind&quot;</td><td>&quot;BTN&quot;</td><td>16</td></tr><tr><td>&quot;htrey000&quot;</td><td>&quot;HJ&quot;</td><td>50</td></tr><tr><td>&quot;56kd&quot;</td><td>&quot;SB&quot;</td><td>19</td></tr><tr><td>&quot;jealousyikk&quot;</td><td>&quot;BTN&quot;</td><td>64</td></tr><tr><td>&quot;Suo Ga&quot;</td><td>&quot;BTN&quot;</td><td>10</td></tr><tr><td>&quot;Misterright&quot;</td><td>&quot;UTG&quot;</td><td>1517</td></tr><tr><td>&quot;tamagotchi78&quot;</td><td>&quot;UTG&quot;</td><td>91</td></tr><tr><td>&quot;puifc&quot;</td><td>&quot;BB&quot;</td><td>142</td></tr><tr><td>&quot;Kleopatra661&quot;</td><td>&quot;SB&quot;</td><td>413</td></tr><tr><td>&quot;burningsage&quot;</td><td>&quot;BTN&quot;</td><td>5</td></tr><tr><td>&quot;quocdat4120&quot;</td><td>&quot;HJ&quot;</td><td>8</td></tr><tr><td>&quot;pofx&quot;</td><td>&quot;BB&quot;</td><td>70</td></tr><tr><td>&quot;WaveFighter&quot;</td><td>&quot;BB&quot;</td><td>16</td></tr><tr><td>&quot;cococohen1&quot;</td><td>&quot;UTG&quot;</td><td>10</td></tr><tr><td>&quot;Igor_Boyko&quot;</td><td>&quot;HJ&quot;</td><td>14</td></tr><tr><td>&quot;Tent Kanapong&quot;</td><td>&quot;SB&quot;</td><td>6</td></tr><tr><td>&quot;brolax&quot;</td><td>&quot;SB&quot;</td><td>40</td></tr><tr><td>&quot;seungmai&quot;</td><td>&quot;BB&quot;</td><td>30</td></tr><tr><td>&quot;NexFill200&quot;</td><td>&quot;BB&quot;</td><td>466</td></tr><tr><td>&quot;AutumnGor&quot;</td><td>&quot;HJ&quot;</td><td>20</td></tr><tr><td>&quot;Pacione&quot;</td><td>&quot;BB&quot;</td><td>3</td></tr><tr><td>&quot;hxysgav&quot;</td><td>&quot;BB&quot;</td><td>18</td></tr><tr><td>&quot;Jgatenby14&quot;</td><td>&quot;MP&quot;</td><td>44</td></tr><tr><td>&quot;Biatlon_ka&quot;</td><td>&quot;UTG&quot;</td><td>21</td></tr><tr><td>&quot;CorpoRider&quot;</td><td>&quot;BB&quot;</td><td>12</td></tr><tr><td>&quot;DomperKing&quot;</td><td>&quot;BB&quot;</td><td>91</td></tr><tr><td>&quot;Numero_Uno&quot;</td><td>&quot;BB&quot;</td><td>26</td></tr><tr><td>&quot;uuwguo&quot;</td><td>&quot;MP&quot;</td><td>5</td></tr><tr><td>&quot;ViKtOr!!!&quot;</td><td>&quot;BB&quot;</td><td>366</td></tr><tr><td>&quot;PeladorNato&quot;</td><td>&quot;BTN&quot;</td><td>1</td></tr><tr><td>&quot;callmebuddha&quot;</td><td>&quot;UTG&quot;</td><td>195</td></tr><tr><td>&quot;Plankton00&quot;</td><td>&quot;BB&quot;</td><td>8</td></tr><tr><td>&quot;PhilipHa&quot;</td><td>&quot;MP&quot;</td><td>4</td></tr><tr><td>&quot;Gotosro&quot;</td><td>&quot;SB&quot;</td><td>13</td></tr><tr><td>&quot;Piercepl&quot;</td><td>&quot;MP&quot;</td><td>11</td></tr><tr><td>&quot;Staran0&quot;</td><td>&quot;BB&quot;</td><td>80</td></tr><tr><td>&quot;Sangik08&quot;</td><td>&quot;SB&quot;</td><td>9</td></tr><tr><td>&quot;theking_9&quot;</td><td>&quot;UTG&quot;</td><td>3</td></tr><tr><td>&quot;guzatur&quot;</td><td>&quot;SB&quot;</td><td>17</td></tr><tr><td>&quot;ArchibaltW&quot;</td><td>&quot;MP&quot;</td><td>38</td></tr><tr><td>&quot;junjun520530&quot;</td><td>&quot;HJ&quot;</td><td>11</td></tr><tr><td>&quot;Thongboy&quot;</td><td>&quot;BTN&quot;</td><td>34</td></tr><tr><td>&quot;Shuuin89&quot;</td><td>&quot;SB&quot;</td><td>20</td></tr></tbody></table></div>"
      ],
      "text/plain": [
       "shape: (183_413, 3)\n",
       "┌────────────────┬──────┬───────────────────┐\n",
       "│ player         ┆ seat ┆ n_plays_from_seat │\n",
       "│ ---            ┆ ---  ┆ ---               │\n",
       "│ str            ┆ str  ┆ u32               │\n",
       "╞════════════════╪══════╪═══════════════════╡\n",
       "│ Thiago bizu    ┆ UTG  ┆ 2                 │\n",
       "│ Dirtyklaus     ┆ SB   ┆ 22                │\n",
       "│ Cherab         ┆ MP   ┆ 6                 │\n",
       "│ opiopo         ┆ SB   ┆ 18                │\n",
       "│ kify           ┆ SB   ┆ 12                │\n",
       "│ w88Pelinh199x  ┆ SB   ┆ 57                │\n",
       "│ E-GOh          ┆ MP   ┆ 30                │\n",
       "│ Focustime17    ┆ BB   ┆ 97                │\n",
       "│ luan-LUAN      ┆ SB   ┆ 363               │\n",
       "│ muller@        ┆ UTG  ┆ 19                │\n",
       "│ PUELx          ┆ BB   ┆ 2                 │\n",
       "│ Stiwek         ┆ SB   ┆ 2                 │\n",
       "│ akakakakakak   ┆ UTG  ┆ 32                │\n",
       "│ Apemossi       ┆ UTG  ┆ 8                 │\n",
       "│ hoerbmuc85     ┆ UTG  ┆ 44                │\n",
       "│ Rice99         ┆ SB   ┆ 76                │\n",
       "│ yogev 8644     ┆ SB   ┆ 31                │\n",
       "│ Devil_Ribbits  ┆ SB   ┆ 67                │\n",
       "│ HoRRaT         ┆ BB   ┆ 2                 │\n",
       "│ hamedshiv3r    ┆ MP   ┆ 1                 │\n",
       "│ didadidd       ┆ HJ   ┆ 20                │\n",
       "│ Jai-Kana       ┆ SB   ┆ 18                │\n",
       "│ PTWR           ┆ UTG  ┆ 3                 │\n",
       "│ seougho        ┆ BTN  ┆ 1                 │\n",
       "│ pilsner_jeong  ┆ HJ   ┆ 2                 │\n",
       "│ edison he      ┆ BB   ┆ 3                 │\n",
       "│ snoisiv222     ┆ MP   ┆ 24                │\n",
       "│ GKkkkkk        ┆ UTG  ┆ 1                 │\n",
       "│ DaeGoon        ┆ BB   ┆ 26                │\n",
       "│ bernardo258    ┆ BB   ┆ 17                │\n",
       "│ VuHoaiLinh     ┆ MP   ┆ 1                 │\n",
       "│ tungjklm       ┆ HJ   ┆ 6                 │\n",
       "│ Trummi         ┆ UTG  ┆ 97                │\n",
       "│ takesssssy     ┆ SB   ┆ 83                │\n",
       "│ K_N_W          ┆ UTG  ┆ 70                │\n",
       "│ iamroni        ┆ BTN  ┆ 5                 │\n",
       "│ Vaccine_       ┆ UTG  ┆ 8                 │\n",
       "│ rkadeon        ┆ BTN  ┆ 82                │\n",
       "│ Samuel321      ┆ BTN  ┆ 3                 │\n",
       "│ kamingam       ┆ SB   ┆ 12                │\n",
       "│ Puppy!         ┆ MP   ┆ 16                │\n",
       "│ Q3A3           ┆ UTG  ┆ 174               │\n",
       "│ gonzlop        ┆ UTG  ┆ 8                 │\n",
       "│ 520327         ┆ MP   ┆ 3                 │\n",
       "│ Wisping        ┆ HJ   ┆ 16                │\n",
       "│ Kar5on         ┆ MP   ┆ 2                 │\n",
       "│ Rdtffhhb       ┆ SB   ┆ 10                │\n",
       "│ LIXIS1414      ┆ BB   ┆ 4                 │\n",
       "│ Wolliemon      ┆ UTG  ┆ 109               │\n",
       "│ ppph           ┆ BB   ┆ 4                 │\n",
       "│ …              ┆ …    ┆ …                 │\n",
       "│ Welldark       ┆ UTG  ┆ 49                │\n",
       "│ Seung LEE      ┆ MP   ┆ 4                 │\n",
       "│ Ksstan         ┆ BTN  ┆ 30                │\n",
       "│ worldtraveller ┆ MP   ┆ 2                 │\n",
       "│ sandy1i        ┆ SB   ┆ 128               │\n",
       "│ sweet yu       ┆ SB   ┆ 97                │\n",
       "│ JowBLOB        ┆ HJ   ┆ 133               │\n",
       "│ URBehind       ┆ BTN  ┆ 16                │\n",
       "│ htrey000       ┆ HJ   ┆ 50                │\n",
       "│ 56kd           ┆ SB   ┆ 19                │\n",
       "│ jealousyikk    ┆ BTN  ┆ 64                │\n",
       "│ Suo Ga         ┆ BTN  ┆ 10                │\n",
       "│ Misterright    ┆ UTG  ┆ 1517              │\n",
       "│ tamagotchi78   ┆ UTG  ┆ 91                │\n",
       "│ puifc          ┆ BB   ┆ 142               │\n",
       "│ Kleopatra661   ┆ SB   ┆ 413               │\n",
       "│ burningsage    ┆ BTN  ┆ 5                 │\n",
       "│ quocdat4120    ┆ HJ   ┆ 8                 │\n",
       "│ pofx           ┆ BB   ┆ 70                │\n",
       "│ WaveFighter    ┆ BB   ┆ 16                │\n",
       "│ cococohen1     ┆ UTG  ┆ 10                │\n",
       "│ Igor_Boyko     ┆ HJ   ┆ 14                │\n",
       "│ Tent Kanapong  ┆ SB   ┆ 6                 │\n",
       "│ brolax         ┆ SB   ┆ 40                │\n",
       "│ seungmai       ┆ BB   ┆ 30                │\n",
       "│ NexFill200     ┆ BB   ┆ 466               │\n",
       "│ AutumnGor      ┆ HJ   ┆ 20                │\n",
       "│ Pacione        ┆ BB   ┆ 3                 │\n",
       "│ hxysgav        ┆ BB   ┆ 18                │\n",
       "│ Jgatenby14     ┆ MP   ┆ 44                │\n",
       "│ Biatlon_ka     ┆ UTG  ┆ 21                │\n",
       "│ CorpoRider     ┆ BB   ┆ 12                │\n",
       "│ DomperKing     ┆ BB   ┆ 91                │\n",
       "│ Numero_Uno     ┆ BB   ┆ 26                │\n",
       "│ uuwguo         ┆ MP   ┆ 5                 │\n",
       "│ ViKtOr!!!      ┆ BB   ┆ 366               │\n",
       "│ PeladorNato    ┆ BTN  ┆ 1                 │\n",
       "│ callmebuddha   ┆ UTG  ┆ 195               │\n",
       "│ Plankton00     ┆ BB   ┆ 8                 │\n",
       "│ PhilipHa       ┆ MP   ┆ 4                 │\n",
       "│ Gotosro        ┆ SB   ┆ 13                │\n",
       "│ Piercepl       ┆ MP   ┆ 11                │\n",
       "│ Staran0        ┆ BB   ┆ 80                │\n",
       "│ Sangik08       ┆ SB   ┆ 9                 │\n",
       "│ theking_9      ┆ UTG  ┆ 3                 │\n",
       "│ guzatur        ┆ SB   ┆ 17                │\n",
       "│ ArchibaltW     ┆ MP   ┆ 38                │\n",
       "│ junjun520530   ┆ HJ   ┆ 11                │\n",
       "│ Thongboy       ┆ BTN  ┆ 34                │\n",
       "│ Shuuin89       ┆ SB   ┆ 20                │\n",
       "└────────────────┴──────┴───────────────────┘"
      ]
     },
     "execution_count": 12,
     "metadata": {},
     "output_type": "execute_result"
    }
   ],
   "source": [
    "preflop.group_by('player','seat').agg(\n",
    "    pl.col(\"hand_id\").count().alias(\"n_plays_from_seat\")#,\n",
    "#    pl.col(\"valor\").mean().alias(\"mean_valor\"),\n",
    "#    pl.col(\"valor\").sum().alias(\"sum_valor\")\n",
    ")"
   ]
  },
  {
   "cell_type": "code",
   "execution_count": 11,
   "metadata": {},
   "outputs": [
    {
     "data": {
      "text/html": [
       "<div><style>\n",
       ".dataframe > thead > tr,\n",
       ".dataframe > tbody > tr {\n",
       "  text-align: right;\n",
       "  white-space: pre-wrap;\n",
       "}\n",
       "</style>\n",
       "<small>shape: (15, 17)</small><table border=\"1\" class=\"dataframe\"><thead><tr><th>hand_id</th><th>stakes_sb</th><th>stakes_bb</th><th>date_time</th><th>table</th><th>button_seat</th><th>seat</th><th>player</th><th>chips_inicial</th><th>chips</th><th>stage</th><th>pot</th><th>sequential_number</th><th>hand</th><th>action</th><th>winner</th><th>chips_won</th></tr><tr><td>str</td><td>str</td><td>str</td><td>str</td><td>str</td><td>str</td><td>str</td><td>str</td><td>f64</td><td>f64</td><td>str</td><td>f64</td><td>i64</td><td>str</td><td>str</td><td>str</td><td>f64</td></tr></thead><tbody><tr><td>&quot;01396177950&quot;</td><td>&quot;0.01&quot;</td><td>&quot;0.02&quot;</td><td>&quot;2023/09/07 10:53:38&quot;</td><td>&quot;GG_NLHYellow110&quot;</td><td>&quot;2&quot;</td><td>&quot;SB&quot;</td><td>&quot;smoker7171&quot;</td><td>1.71</td><td>1.7</td><td>&quot;preflop&quot;</td><td>0.01</td><td>1</td><td>null</td><td>&quot;posts small blind $0.01&quot;</td><td>null</td><td>null</td></tr><tr><td>&quot;01396177950&quot;</td><td>&quot;0.01&quot;</td><td>&quot;0.02&quot;</td><td>&quot;2023/09/07 10:53:38&quot;</td><td>&quot;GG_NLHYellow110&quot;</td><td>&quot;2&quot;</td><td>&quot;BB&quot;</td><td>&quot;PLSUNS&quot;</td><td>2.15</td><td>2.13</td><td>&quot;preflop&quot;</td><td>0.03</td><td>2</td><td>null</td><td>&quot;posts big blind $0.02&quot;</td><td>null</td><td>null</td></tr><tr><td>&quot;01396177950&quot;</td><td>&quot;0.01&quot;</td><td>&quot;0.02&quot;</td><td>&quot;2023/09/07 10:53:38&quot;</td><td>&quot;GG_NLHYellow110&quot;</td><td>&quot;2&quot;</td><td>&quot;UTG&quot;</td><td>&quot;Mne MozZzno&quot;</td><td>0.91</td><td>0.91</td><td>&quot;preflop&quot;</td><td>0.03</td><td>3</td><td>null</td><td>&quot;folds&quot;</td><td>null</td><td>null</td></tr><tr><td>&quot;01396177950&quot;</td><td>&quot;0.01&quot;</td><td>&quot;0.02&quot;</td><td>&quot;2023/09/07 10:53:38&quot;</td><td>&quot;GG_NLHYellow110&quot;</td><td>&quot;2&quot;</td><td>&quot;MP&quot;</td><td>&quot;duruch&quot;</td><td>1.3</td><td>1.26</td><td>&quot;preflop&quot;</td><td>0.07</td><td>4</td><td>null</td><td>&quot;raises $0.04 to $0.06&quot;</td><td>null</td><td>null</td></tr><tr><td>&quot;01396177950&quot;</td><td>&quot;0.01&quot;</td><td>&quot;0.02&quot;</td><td>&quot;2023/09/07 10:53:38&quot;</td><td>&quot;GG_NLHYellow110&quot;</td><td>&quot;2&quot;</td><td>&quot;HJ&quot;</td><td>&quot;danekkk&quot;</td><td>1.8</td><td>1.74</td><td>&quot;preflop&quot;</td><td>0.13</td><td>5</td><td>null</td><td>&quot;calls $0.06&quot;</td><td>null</td><td>null</td></tr><tr><td>&quot;01396177950&quot;</td><td>&quot;0.01&quot;</td><td>&quot;0.02&quot;</td><td>&quot;2023/09/07 10:53:38&quot;</td><td>&quot;GG_NLHYellow110&quot;</td><td>&quot;2&quot;</td><td>&quot;BTN&quot;</td><td>&quot;Biokor&quot;</td><td>0.35</td><td>0.35</td><td>&quot;preflop&quot;</td><td>0.13</td><td>6</td><td>null</td><td>&quot;folds&quot;</td><td>null</td><td>null</td></tr><tr><td>&quot;01396177950&quot;</td><td>&quot;0.01&quot;</td><td>&quot;0.02&quot;</td><td>&quot;2023/09/07 10:53:38&quot;</td><td>&quot;GG_NLHYellow110&quot;</td><td>&quot;2&quot;</td><td>&quot;SB&quot;</td><td>&quot;smoker7171&quot;</td><td>1.71</td><td>1.7</td><td>&quot;preflop&quot;</td><td>0.13</td><td>7</td><td>null</td><td>&quot;folds&quot;</td><td>null</td><td>null</td></tr><tr><td>&quot;01396177950&quot;</td><td>&quot;0.01&quot;</td><td>&quot;0.02&quot;</td><td>&quot;2023/09/07 10:53:38&quot;</td><td>&quot;GG_NLHYellow110&quot;</td><td>&quot;2&quot;</td><td>&quot;BB&quot;</td><td>&quot;PLSUNS&quot;</td><td>2.15</td><td>2.13</td><td>&quot;preflop&quot;</td><td>0.13</td><td>8</td><td>null</td><td>&quot;folds&quot;</td><td>null</td><td>null</td></tr><tr><td>&quot;01396177950&quot;</td><td>&quot;0.01&quot;</td><td>&quot;0.02&quot;</td><td>&quot;2023/09/07 10:53:38&quot;</td><td>&quot;GG_NLHYellow110&quot;</td><td>&quot;2&quot;</td><td>&quot;MP&quot;</td><td>&quot;duruch&quot;</td><td>1.3</td><td>1.21</td><td>&quot;flop&quot;</td><td>0.05</td><td>1</td><td>null</td><td>&quot;bets $0.05&quot;</td><td>null</td><td>null</td></tr><tr><td>&quot;01396177950&quot;</td><td>&quot;0.01&quot;</td><td>&quot;0.02&quot;</td><td>&quot;2023/09/07 10:53:38&quot;</td><td>&quot;GG_NLHYellow110&quot;</td><td>&quot;2&quot;</td><td>&quot;HJ&quot;</td><td>&quot;danekkk&quot;</td><td>1.8</td><td>1.65</td><td>&quot;flop&quot;</td><td>0.14</td><td>2</td><td>null</td><td>&quot;raises $0.09 to $0.14&quot;</td><td>null</td><td>null</td></tr><tr><td>&quot;01396177950&quot;</td><td>&quot;0.01&quot;</td><td>&quot;0.02&quot;</td><td>&quot;2023/09/07 10:53:38&quot;</td><td>&quot;GG_NLHYellow110&quot;</td><td>&quot;2&quot;</td><td>&quot;MP&quot;</td><td>&quot;duruch&quot;</td><td>1.3</td><td>1.12</td><td>&quot;flop&quot;</td><td>0.23</td><td>3</td><td>null</td><td>&quot;calls $0.09&quot;</td><td>null</td><td>null</td></tr><tr><td>&quot;01396177950&quot;</td><td>&quot;0.01&quot;</td><td>&quot;0.02&quot;</td><td>&quot;2023/09/07 10:53:38&quot;</td><td>&quot;GG_NLHYellow110&quot;</td><td>&quot;2&quot;</td><td>&quot;MP&quot;</td><td>&quot;duruch&quot;</td><td>1.3</td><td>1.12</td><td>&quot;turn&quot;</td><td>0.23</td><td>1</td><td>null</td><td>&quot;checks&quot;</td><td>null</td><td>null</td></tr><tr><td>&quot;01396177950&quot;</td><td>&quot;0.01&quot;</td><td>&quot;0.02&quot;</td><td>&quot;2023/09/07 10:53:38&quot;</td><td>&quot;GG_NLHYellow110&quot;</td><td>&quot;2&quot;</td><td>&quot;HJ&quot;</td><td>&quot;danekkk&quot;</td><td>1.8</td><td>1.43</td><td>&quot;turn&quot;</td><td>0.45</td><td>2</td><td>null</td><td>&quot;bets $0.22&quot;</td><td>null</td><td>null</td></tr><tr><td>&quot;01396177950&quot;</td><td>&quot;0.01&quot;</td><td>&quot;0.02&quot;</td><td>&quot;2023/09/07 10:53:38&quot;</td><td>&quot;GG_NLHYellow110&quot;</td><td>&quot;2&quot;</td><td>&quot;MP&quot;</td><td>&quot;duruch&quot;</td><td>1.3</td><td>1.12</td><td>&quot;turn&quot;</td><td>0.45</td><td>3</td><td>null</td><td>&quot;folds&quot;</td><td>null</td><td>null</td></tr><tr><td>&quot;01396177950&quot;</td><td>&quot;0.01&quot;</td><td>&quot;0.02&quot;</td><td>&quot;2023/09/07 10:53:38&quot;</td><td>&quot;GG_NLHYellow110&quot;</td><td>&quot;2&quot;</td><td>&quot;HJ&quot;</td><td>&quot;danekkk&quot;</td><td>1.8</td><td>1.43</td><td>&quot;showdown&quot;</td><td>0.45</td><td>1</td><td>null</td><td>null</td><td>&quot;danekkk&quot;</td><td>0.41</td></tr></tbody></table></div>"
      ],
      "text/plain": [
       "shape: (15, 17)\n",
       "┌─────────────┬───────────┬───────────┬─────────────┬───┬──────┬─────────────┬─────────┬───────────┐\n",
       "│ hand_id     ┆ stakes_sb ┆ stakes_bb ┆ date_time   ┆ … ┆ hand ┆ action      ┆ winner  ┆ chips_won │\n",
       "│ ---         ┆ ---       ┆ ---       ┆ ---         ┆   ┆ ---  ┆ ---         ┆ ---     ┆ ---       │\n",
       "│ str         ┆ str       ┆ str       ┆ str         ┆   ┆ str  ┆ str         ┆ str     ┆ f64       │\n",
       "╞═════════════╪═══════════╪═══════════╪═════════════╪═══╪══════╪═════════════╪═════════╪═══════════╡\n",
       "│ 01396177950 ┆ 0.01      ┆ 0.02      ┆ 2023/09/07  ┆ … ┆ null ┆ posts small ┆ null    ┆ null      │\n",
       "│             ┆           ┆           ┆ 10:53:38    ┆   ┆      ┆ blind $0.01 ┆         ┆           │\n",
       "│ 01396177950 ┆ 0.01      ┆ 0.02      ┆ 2023/09/07  ┆ … ┆ null ┆ posts big   ┆ null    ┆ null      │\n",
       "│             ┆           ┆           ┆ 10:53:38    ┆   ┆      ┆ blind $0.02 ┆         ┆           │\n",
       "│ 01396177950 ┆ 0.01      ┆ 0.02      ┆ 2023/09/07  ┆ … ┆ null ┆ folds       ┆ null    ┆ null      │\n",
       "│             ┆           ┆           ┆ 10:53:38    ┆   ┆      ┆             ┆         ┆           │\n",
       "│ 01396177950 ┆ 0.01      ┆ 0.02      ┆ 2023/09/07  ┆ … ┆ null ┆ raises      ┆ null    ┆ null      │\n",
       "│             ┆           ┆           ┆ 10:53:38    ┆   ┆      ┆ $0.04 to    ┆         ┆           │\n",
       "│             ┆           ┆           ┆             ┆   ┆      ┆ $0.06       ┆         ┆           │\n",
       "│ 01396177950 ┆ 0.01      ┆ 0.02      ┆ 2023/09/07  ┆ … ┆ null ┆ calls $0.06 ┆ null    ┆ null      │\n",
       "│             ┆           ┆           ┆ 10:53:38    ┆   ┆      ┆             ┆         ┆           │\n",
       "│ 01396177950 ┆ 0.01      ┆ 0.02      ┆ 2023/09/07  ┆ … ┆ null ┆ folds       ┆ null    ┆ null      │\n",
       "│             ┆           ┆           ┆ 10:53:38    ┆   ┆      ┆             ┆         ┆           │\n",
       "│ 01396177950 ┆ 0.01      ┆ 0.02      ┆ 2023/09/07  ┆ … ┆ null ┆ folds       ┆ null    ┆ null      │\n",
       "│             ┆           ┆           ┆ 10:53:38    ┆   ┆      ┆             ┆         ┆           │\n",
       "│ 01396177950 ┆ 0.01      ┆ 0.02      ┆ 2023/09/07  ┆ … ┆ null ┆ folds       ┆ null    ┆ null      │\n",
       "│             ┆           ┆           ┆ 10:53:38    ┆   ┆      ┆             ┆         ┆           │\n",
       "│ 01396177950 ┆ 0.01      ┆ 0.02      ┆ 2023/09/07  ┆ … ┆ null ┆ bets $0.05  ┆ null    ┆ null      │\n",
       "│             ┆           ┆           ┆ 10:53:38    ┆   ┆      ┆             ┆         ┆           │\n",
       "│ 01396177950 ┆ 0.01      ┆ 0.02      ┆ 2023/09/07  ┆ … ┆ null ┆ raises      ┆ null    ┆ null      │\n",
       "│             ┆           ┆           ┆ 10:53:38    ┆   ┆      ┆ $0.09 to    ┆         ┆           │\n",
       "│             ┆           ┆           ┆             ┆   ┆      ┆ $0.14       ┆         ┆           │\n",
       "│ 01396177950 ┆ 0.01      ┆ 0.02      ┆ 2023/09/07  ┆ … ┆ null ┆ calls $0.09 ┆ null    ┆ null      │\n",
       "│             ┆           ┆           ┆ 10:53:38    ┆   ┆      ┆             ┆         ┆           │\n",
       "│ 01396177950 ┆ 0.01      ┆ 0.02      ┆ 2023/09/07  ┆ … ┆ null ┆ checks      ┆ null    ┆ null      │\n",
       "│             ┆           ┆           ┆ 10:53:38    ┆   ┆      ┆             ┆         ┆           │\n",
       "│ 01396177950 ┆ 0.01      ┆ 0.02      ┆ 2023/09/07  ┆ … ┆ null ┆ bets $0.22  ┆ null    ┆ null      │\n",
       "│             ┆           ┆           ┆ 10:53:38    ┆   ┆      ┆             ┆         ┆           │\n",
       "│ 01396177950 ┆ 0.01      ┆ 0.02      ┆ 2023/09/07  ┆ … ┆ null ┆ folds       ┆ null    ┆ null      │\n",
       "│             ┆           ┆           ┆ 10:53:38    ┆   ┆      ┆             ┆         ┆           │\n",
       "│ 01396177950 ┆ 0.01      ┆ 0.02      ┆ 2023/09/07  ┆ … ┆ null ┆ null        ┆ danekkk ┆ 0.41      │\n",
       "│             ┆           ┆           ┆ 10:53:38    ┆   ┆      ┆             ┆         ┆           │\n",
       "└─────────────┴───────────┴───────────┴─────────────┴───┴──────┴─────────────┴─────────┴───────────┘"
      ]
     },
     "execution_count": 11,
     "metadata": {},
     "output_type": "execute_result"
    }
   ],
   "source": [
    "data.filter(pl.col(\"hand_id\") == \"01396177950\")"
   ]
  },
  {
   "cell_type": "code",
   "execution_count": null,
   "metadata": {},
   "outputs": [],
   "source": []
  }
 ],
 "metadata": {
  "kernelspec": {
   "display_name": "entorno",
   "language": "python",
   "name": "python3"
  },
  "language_info": {
   "codemirror_mode": {
    "name": "ipython",
    "version": 3
   },
   "file_extension": ".py",
   "mimetype": "text/x-python",
   "name": "python",
   "nbconvert_exporter": "python",
   "pygments_lexer": "ipython3",
   "version": "3.10.14"
  }
 },
 "nbformat": 4,
 "nbformat_minor": 2
}
